{
 "cells": [
  {
   "cell_type": "markdown",
   "metadata": {},
   "source": [
    "## Imports"
   ]
  },
  {
   "cell_type": "code",
   "execution_count": 1,
   "metadata": {},
   "outputs": [],
   "source": [
    "import pandas as pd\n",
    "import numpy as np\n",
    "from scipy.io import arff \n",
    "from ordpy import complexity_entropy\n",
    "\n",
    "import functions\n",
    "import export_creation"
   ]
  },
  {
   "cell_type": "markdown",
   "metadata": {},
   "source": [
    "## Functions definition"
   ]
  },
  {
   "cell_type": "code",
   "execution_count": 2,
   "metadata": {},
   "outputs": [],
   "source": [
    "def main(param, DATA_NAME, PLOT, values, labels, real_cp):\n",
    "    \"\"\"\n",
    "    Given a dataset, with it's respective values and labels, creates a new representation for the data, using SAX transformation. After that,\n",
    "    groups close symbols in the series, according to a given parameter.\n",
    "\n",
    "    -----------\n",
    "    Parameters:\n",
    "    param (tuple): (number of bins, window_size)\n",
    "    DATA_NAME (string): name of the folder in which to put the metrics and figures for the dataset.\n",
    "    PLOT (bool): indicates if a histogram of the symbols distribution is to be plotted.\n",
    "    values (pd.Dataframe): values of the dataset.\n",
    "    labels (pd.Series): labels of the dataset.\n",
    "\n",
    "    -----------\n",
    "    Returns:\n",
    "    new_data (pd.Dataframe): new representation for the data values.\n",
    "    \"\"\"\n",
    "    classes = labels.unique()\n",
    "\n",
    "    print('Transformação SAX')\n",
    "    # perform SAX transformation\n",
    "    sax_values = functions.run_sax(values, n_bins=param[0])\n",
    "    symbols_dict = functions.compute_symbols_dictionary(np.unique(sax_values), window_size=param[1])\n",
    "    sax_data = pd.DataFrame(sax_values.reshape(values.shape))\n",
    "\n",
    "    print('---------------\\nNova Representação')\n",
    "    # create new representation\n",
    "    new_rep = sax_data.apply(lambda row : functions.create_new_representation(row, window_size=param[1], dict=symbols_dict), axis=1)\n",
    "\n",
    "    print('---------------\\nJensen Shannon')\n",
    "    # calculate jensenshannon distance based on the new representation\n",
    "    js_distance = functions.calculate_js_distance(new_rep, labels)\n",
    "    print(js_distance)\n",
    "    eq_class = js_distance[js_distance[['Class 1', 'Class 2']].nunique(axis=1) == 1].reset_index(drop=True)['JS Distance']\n",
    "    diff_class = js_distance[js_distance[['Class 1', 'Class 2']].nunique(axis=1) > 1].reset_index(drop=True)['JS Distance']\n",
    "    eq_class = eq_class.apply(pd.Series).stack().reset_index(drop=True)\n",
    "    diff_class = diff_class.apply(pd.Series).stack().reset_index(drop=True)\n",
    "    export_creation.save_js_metrics(eq_class, diff_class, DATA_NAME, param[1], param[0])\n",
    "\n",
    "    print('---------------\\nEntropia x Complexidade Estatística')\n",
    "    # calculate entropy and statistical complexity of the data\n",
    "    comp_entrop = [complexity_entropy(new_rep[i]) for i in range(new_data.shape[0])]\n",
    "    comp_entrop = pd.DataFrame(comp_entrop, columns=['entropy', 'statistical_complexity'])\n",
    "    export_creation.plot_entropy_sc(comp_entrop, labels, DATA_NAME, param[1], param[0])"
   ]
  },
  {
   "cell_type": "code",
   "execution_count": 3,
   "metadata": {},
   "outputs": [],
   "source": [
    "def load_data(DATA_NAME):\n",
    "    \"\"\"\n",
    "    Load a dataset.\n",
    "    \"\"\"\n",
    "    data = arff.loadarff(f'../data/{DATA_NAME}.arff')\n",
    "    data = pd.DataFrame(data[0])\n",
    "    labels = data['target']\n",
    "    values = data.drop('target', axis=1)\n",
    "    return values, labels"
   ]
  },
  {
   "cell_type": "markdown",
   "metadata": {},
   "source": [
    "## Run databases"
   ]
  },
  {
   "cell_type": "markdown",
   "metadata": {},
   "source": [
    "### Time Series Classification"
   ]
  },
  {
   "cell_type": "code",
   "execution_count": 4,
   "metadata": {},
   "outputs": [],
   "source": [
    "DATA_NAME1 = 'AbnormalHeartbeat/AbnormalHeartbeat_TRAIN'\n",
    "DATA_NAME2 = 'AbnormalHeartbeat/AbnormalHeartbeat_TEST'\n",
    "PLOT_NAME = 'AbnormalHeartbeat'"
   ]
  },
  {
   "cell_type": "code",
   "execution_count": 5,
   "metadata": {},
   "outputs": [],
   "source": [
    "# DATA_NAME1 = 'ArticularyWordRecognition/ArticularyWordRecognition_TRAIN'\n",
    "# DATA_NAME2 = 'ArticularyWordRecognition/ArticularyWordRecognition_TEST'\n",
    "# PLOT_NAME = 'ArticularyWordRecognition'"
   ]
  },
  {
   "cell_type": "code",
   "execution_count": 6,
   "metadata": {},
   "outputs": [],
   "source": [
    "# DATA_NAME1 = 'Car/Car_TEST'\n",
    "# DATA_NAME2 = 'Car/Car_TRAIN'\n",
    "# PLOT_NAME = 'Car'"
   ]
  },
  {
   "cell_type": "code",
   "execution_count": 7,
   "metadata": {},
   "outputs": [],
   "source": [
    "# DATA_NAME1 = 'ChlorineConcentration/ChlorineConcentration_TRAIN'\n",
    "# DATA_NAME2 = 'ChlorineConcentration/ChlorineConcentration_TEST'\n",
    "# PLOT_NAME = 'ChlorineConcentration'"
   ]
  },
  {
   "cell_type": "code",
   "execution_count": 8,
   "metadata": {},
   "outputs": [],
   "source": [
    "# DATA_NAME1 = 'ACSF1/ACSF1_TEST'\n",
    "# DATA_NAME2= 'ACSF1/ACSF1_TRAIN'\n",
    "# PLOT_NAME = 'ACSF1'"
   ]
  },
  {
   "cell_type": "code",
   "execution_count": 9,
   "metadata": {},
   "outputs": [],
   "source": [
    "# DATA_NAME1 = 'SyntheticControl/SyntheticControl_TRAIN' \n",
    "# DATA_NAME2 = 'SyntheticControl/SyntheticControl_TEST' \n",
    "# PLOT_NAME = 'SyntheticControl'"
   ]
  },
  {
   "cell_type": "code",
   "execution_count": 10,
   "metadata": {},
   "outputs": [],
   "source": [
    "# DATA_NAME1 = 'TwoPatterns/TwoPatterns_TRAIN'\n",
    "# DATA_NAME2 = 'TwoPatterns/TwoPatterns_TEST'\n",
    "# PLOT_NAME = 'TwoPatterns'"
   ]
  },
  {
   "cell_type": "code",
   "execution_count": null,
   "metadata": {},
   "outputs": [],
   "source": [
    "# DATA_NAME1 = 'BeetleFly/BeetleFly_TRAIN'\n",
    "# DATA_NAME2 = 'BeetleFly/BeetleFly_TEST'\n",
    "# PLOT_NAME = 'BeetleFly'"
   ]
  },
  {
   "cell_type": "code",
   "execution_count": null,
   "metadata": {},
   "outputs": [],
   "source": [
    "# DATA_NAME1 = 'BirdChicken/BirdChicken_TRAIN'\n",
    "# DATA_NAME2 = 'BirdChicken/BirdChicken_TEST'\n",
    "# PLOT_NAME = 'BirdChicken'"
   ]
  },
  {
   "cell_type": "markdown",
   "metadata": {},
   "source": [
    "### HASC"
   ]
  },
  {
   "cell_type": "code",
   "execution_count": null,
   "metadata": {},
   "outputs": [],
   "source": [
    "DATA_NAME1 = DATA_NAME2 = ''\n",
    "PLOT_NAME = 'HASC'\n",
    "\n",
    "dados_info = \"dados_2\"\n",
    "data_group_name = \"person101\"\n",
    "database_name = \"HASC1002\"\n",
    "colnames = [\"x\", \"y\", \"z\"]\n",
    "\n",
    "df = pd.read_parquet(\"../data/01_og_HASC/{}/{}/{}_concat.parquet\".format(dados_info, data_group_name, database_name))\n",
    "df_label = pd.read_csv(\"../data/01_og_HASC/{}/{}/{}.label\".format(dados_info, data_group_name, database_name), header=None)\n",
    "df_label.columns = [\"timestamp_start\", \"timestamp_end\", \"classe\"]\n",
    "df.reset_index(drop=True, inplace=True)\n",
    "\n",
    "for tmps in df_label[\"timestamp_end\"][:-1]:\n",
    "    print(len(df[df[\"timestamp\"] >= tmps][\"timestamp\"]))\n",
    "    \n",
    "real_cp = []\n",
    "for tmp_start, tmp_end in zip(df_label[\"timestamp_start\"],df_label[\"timestamp_end\"]) :\n",
    "    print(tmps)\n",
    "    min_tmp = max(df[(df[\"timestamp\"] >= tmp_start) & (df[\"timestamp\"] <= tmp_end)][\"timestamp\"])\n",
    "    index_ch = df[df[\"timestamp\"] == min_tmp].index.values[0]+1\n",
    "    real_cp.append(index_ch)"
   ]
  },
  {
   "cell_type": "code",
   "execution_count": null,
   "metadata": {},
   "outputs": [],
   "source": [
    "df"
   ]
  },
  {
   "cell_type": "code",
   "execution_count": null,
   "metadata": {},
   "outputs": [],
   "source": [
    "real_cp = [cp - 890 for cp in real_cp]\n",
    "real_cp"
   ]
  },
  {
   "cell_type": "code",
   "execution_count": null,
   "metadata": {},
   "outputs": [],
   "source": [
    "values = df.drop(columns='timestamp').apply(lambda x:np.linalg.norm(x.values), axis=1)\n",
    "values = values.drop(index=[i for i in range(890)]).reset_index(drop=True)\n",
    "values = values.drop(index=[i for i in range(real_cp[-1], len(values))]).reset_index(drop=True)"
   ]
  },
  {
   "cell_type": "code",
   "execution_count": null,
   "metadata": {},
   "outputs": [],
   "source": [
    "values"
   ]
  },
  {
   "cell_type": "code",
   "execution_count": null,
   "metadata": {},
   "outputs": [],
   "source": [
    "df_label"
   ]
  },
  {
   "cell_type": "code",
   "execution_count": null,
   "metadata": {},
   "outputs": [],
   "source": [
    "labels = df_label.drop(index=11)['classe']\n",
    "labels"
   ]
  },
  {
   "cell_type": "markdown",
   "metadata": {},
   "source": [
    "## Execution"
   ]
  },
  {
   "cell_type": "code",
   "execution_count": 5,
   "metadata": {},
   "outputs": [],
   "source": [
    "# Parameters\n",
    "\n",
    "PARAM = [(3, 3), (3, 4), (3, 5), (4, 3), (4, 4), (4, 5)] # (n_bins, window_size)\n",
    "# PARAM = [(5, 3), (5, 4), (5, 5)]\n",
    "param = (3, 3)\n",
    "PLOT = False\n",
    "HASC = False"
   ]
  },
  {
   "cell_type": "code",
   "execution_count": 6,
   "metadata": {},
   "outputs": [],
   "source": [
    "# Load data\n",
    "\n",
    "if not HASC:\n",
    "    values, labels = load_data(DATA_NAME1)\n",
    "\n",
    "    if DATA_NAME2:\n",
    "        values1, labels1 = load_data(DATA_NAME2)\n",
    "        values = pd.concat([values, values1], ignore_index=True)\n",
    "        labels = pd.concat([labels, labels1], ignore_index=True)"
   ]
  },
  {
   "cell_type": "code",
   "execution_count": 7,
   "metadata": {},
   "outputs": [
    {
     "name": "stdout",
     "output_type": "stream",
     "text": [
      "<class 'pandas.core.frame.DataFrame'>\n",
      "RangeIndex: 409 entries, 0 to 408\n",
      "Columns: 18530 entries, att1 to att18530\n",
      "dtypes: float64(18530)\n",
      "memory usage: 57.8 MB\n"
     ]
    }
   ],
   "source": [
    "values.info()"
   ]
  },
  {
   "cell_type": "code",
   "execution_count": 14,
   "metadata": {},
   "outputs": [],
   "source": [
    "# for param in PARAM:\n",
    "#     print()\n",
    "#     print(f'n_bins: {param[0]}, window_size: {param[1]}')\n",
    "#     main(param, PLOT_NAME, PLOT, values, labels, real_cp)"
   ]
  },
  {
   "cell_type": "code",
   "execution_count": 9,
   "metadata": {},
   "outputs": [],
   "source": [
    "# Perform SAX transformation\n",
    "\n",
    "sax_values = functions.run_sax(values, n_bins=param[0])\n",
    "symbols_dict = functions.compute_symbols_dictionary(np.unique(sax_values), window_size=param[1])\n",
    "sax_data = pd.DataFrame(sax_values.reshape(values.shape))"
   ]
  },
  {
   "cell_type": "code",
   "execution_count": 16,
   "metadata": {},
   "outputs": [],
   "source": [
    "# Create new representation using sliding window\n",
    "\n",
    "# new_rep = sax_data.apply(lambda row : functions.create_new_representation(row, window_size=param[1], dict=symbols_dict), axis=1)\n",
    "# new_rep"
   ]
  },
  {
   "cell_type": "code",
   "execution_count": 17,
   "metadata": {},
   "outputs": [],
   "source": [
    "# new_rep.to_csv('./new_rep.csv', index=None)"
   ]
  },
  {
   "cell_type": "code",
   "execution_count": 10,
   "metadata": {},
   "outputs": [],
   "source": [
    "new_rep = pd.read_csv('./new_rep.csv', index_col=False)\n",
    "new_rep = new_rep.drop(columns='Unnamed: 0')"
   ]
  },
  {
   "cell_type": "code",
   "execution_count": 12,
   "metadata": {},
   "outputs": [
    {
     "data": {
      "text/html": [
       "<div>\n",
       "<style scoped>\n",
       "    .dataframe tbody tr th:only-of-type {\n",
       "        vertical-align: middle;\n",
       "    }\n",
       "\n",
       "    .dataframe tbody tr th {\n",
       "        vertical-align: top;\n",
       "    }\n",
       "\n",
       "    .dataframe thead th {\n",
       "        text-align: right;\n",
       "    }\n",
       "</style>\n",
       "<table border=\"1\" class=\"dataframe\">\n",
       "  <thead>\n",
       "    <tr style=\"text-align: right;\">\n",
       "      <th></th>\n",
       "      <th>0</th>\n",
       "      <th>1</th>\n",
       "      <th>2</th>\n",
       "      <th>3</th>\n",
       "      <th>4</th>\n",
       "      <th>5</th>\n",
       "      <th>6</th>\n",
       "      <th>7</th>\n",
       "      <th>8</th>\n",
       "      <th>9</th>\n",
       "      <th>...</th>\n",
       "      <th>18518</th>\n",
       "      <th>18519</th>\n",
       "      <th>18520</th>\n",
       "      <th>18521</th>\n",
       "      <th>18522</th>\n",
       "      <th>18523</th>\n",
       "      <th>18524</th>\n",
       "      <th>18525</th>\n",
       "      <th>18526</th>\n",
       "      <th>18527</th>\n",
       "    </tr>\n",
       "  </thead>\n",
       "  <tbody>\n",
       "    <tr>\n",
       "      <th>0</th>\n",
       "      <td>15</td>\n",
       "      <td>2</td>\n",
       "      <td>2</td>\n",
       "      <td>2</td>\n",
       "      <td>2</td>\n",
       "      <td>2</td>\n",
       "      <td>2</td>\n",
       "      <td>3</td>\n",
       "      <td>7</td>\n",
       "      <td>20</td>\n",
       "      <td>...</td>\n",
       "      <td>2</td>\n",
       "      <td>2</td>\n",
       "      <td>2</td>\n",
       "      <td>2</td>\n",
       "      <td>2</td>\n",
       "      <td>2</td>\n",
       "      <td>2</td>\n",
       "      <td>2</td>\n",
       "      <td>2</td>\n",
       "      <td>2</td>\n",
       "    </tr>\n",
       "    <tr>\n",
       "      <th>1</th>\n",
       "      <td>20</td>\n",
       "      <td>20</td>\n",
       "      <td>20</td>\n",
       "      <td>20</td>\n",
       "      <td>20</td>\n",
       "      <td>20</td>\n",
       "      <td>20</td>\n",
       "      <td>20</td>\n",
       "      <td>20</td>\n",
       "      <td>20</td>\n",
       "      <td>...</td>\n",
       "      <td>20</td>\n",
       "      <td>20</td>\n",
       "      <td>20</td>\n",
       "      <td>20</td>\n",
       "      <td>20</td>\n",
       "      <td>20</td>\n",
       "      <td>20</td>\n",
       "      <td>20</td>\n",
       "      <td>20</td>\n",
       "      <td>20</td>\n",
       "    </tr>\n",
       "    <tr>\n",
       "      <th>2</th>\n",
       "      <td>20</td>\n",
       "      <td>20</td>\n",
       "      <td>20</td>\n",
       "      <td>20</td>\n",
       "      <td>20</td>\n",
       "      <td>20</td>\n",
       "      <td>20</td>\n",
       "      <td>20</td>\n",
       "      <td>20</td>\n",
       "      <td>20</td>\n",
       "      <td>...</td>\n",
       "      <td>20</td>\n",
       "      <td>20</td>\n",
       "      <td>20</td>\n",
       "      <td>20</td>\n",
       "      <td>20</td>\n",
       "      <td>20</td>\n",
       "      <td>21</td>\n",
       "      <td>25</td>\n",
       "      <td>38</td>\n",
       "      <td>38</td>\n",
       "    </tr>\n",
       "    <tr>\n",
       "      <th>3</th>\n",
       "      <td>20</td>\n",
       "      <td>20</td>\n",
       "      <td>20</td>\n",
       "      <td>20</td>\n",
       "      <td>20</td>\n",
       "      <td>20</td>\n",
       "      <td>20</td>\n",
       "      <td>20</td>\n",
       "      <td>20</td>\n",
       "      <td>20</td>\n",
       "      <td>...</td>\n",
       "      <td>38</td>\n",
       "      <td>38</td>\n",
       "      <td>38</td>\n",
       "      <td>38</td>\n",
       "      <td>38</td>\n",
       "      <td>38</td>\n",
       "      <td>38</td>\n",
       "      <td>38</td>\n",
       "      <td>37</td>\n",
       "      <td>34</td>\n",
       "    </tr>\n",
       "    <tr>\n",
       "      <th>4</th>\n",
       "      <td>15</td>\n",
       "      <td>2</td>\n",
       "      <td>2</td>\n",
       "      <td>2</td>\n",
       "      <td>2</td>\n",
       "      <td>2</td>\n",
       "      <td>2</td>\n",
       "      <td>2</td>\n",
       "      <td>2</td>\n",
       "      <td>2</td>\n",
       "      <td>...</td>\n",
       "      <td>2</td>\n",
       "      <td>2</td>\n",
       "      <td>2</td>\n",
       "      <td>2</td>\n",
       "      <td>2</td>\n",
       "      <td>2</td>\n",
       "      <td>2</td>\n",
       "      <td>2</td>\n",
       "      <td>2</td>\n",
       "      <td>2</td>\n",
       "    </tr>\n",
       "    <tr>\n",
       "      <th>5</th>\n",
       "      <td>38</td>\n",
       "      <td>38</td>\n",
       "      <td>38</td>\n",
       "      <td>38</td>\n",
       "      <td>38</td>\n",
       "      <td>38</td>\n",
       "      <td>38</td>\n",
       "      <td>38</td>\n",
       "      <td>38</td>\n",
       "      <td>38</td>\n",
       "      <td>...</td>\n",
       "      <td>20</td>\n",
       "      <td>20</td>\n",
       "      <td>20</td>\n",
       "      <td>20</td>\n",
       "      <td>20</td>\n",
       "      <td>20</td>\n",
       "      <td>20</td>\n",
       "      <td>20</td>\n",
       "      <td>20</td>\n",
       "      <td>20</td>\n",
       "    </tr>\n",
       "    <tr>\n",
       "      <th>6</th>\n",
       "      <td>38</td>\n",
       "      <td>38</td>\n",
       "      <td>38</td>\n",
       "      <td>38</td>\n",
       "      <td>38</td>\n",
       "      <td>38</td>\n",
       "      <td>38</td>\n",
       "      <td>38</td>\n",
       "      <td>38</td>\n",
       "      <td>38</td>\n",
       "      <td>...</td>\n",
       "      <td>20</td>\n",
       "      <td>20</td>\n",
       "      <td>20</td>\n",
       "      <td>20</td>\n",
       "      <td>20</td>\n",
       "      <td>20</td>\n",
       "      <td>20</td>\n",
       "      <td>20</td>\n",
       "      <td>20</td>\n",
       "      <td>20</td>\n",
       "    </tr>\n",
       "    <tr>\n",
       "      <th>7</th>\n",
       "      <td>20</td>\n",
       "      <td>20</td>\n",
       "      <td>20</td>\n",
       "      <td>20</td>\n",
       "      <td>20</td>\n",
       "      <td>20</td>\n",
       "      <td>20</td>\n",
       "      <td>20</td>\n",
       "      <td>20</td>\n",
       "      <td>20</td>\n",
       "      <td>...</td>\n",
       "      <td>20</td>\n",
       "      <td>20</td>\n",
       "      <td>20</td>\n",
       "      <td>20</td>\n",
       "      <td>20</td>\n",
       "      <td>20</td>\n",
       "      <td>20</td>\n",
       "      <td>20</td>\n",
       "      <td>20</td>\n",
       "      <td>20</td>\n",
       "    </tr>\n",
       "    <tr>\n",
       "      <th>8</th>\n",
       "      <td>25</td>\n",
       "      <td>38</td>\n",
       "      <td>38</td>\n",
       "      <td>38</td>\n",
       "      <td>38</td>\n",
       "      <td>38</td>\n",
       "      <td>38</td>\n",
       "      <td>38</td>\n",
       "      <td>38</td>\n",
       "      <td>38</td>\n",
       "      <td>...</td>\n",
       "      <td>2</td>\n",
       "      <td>2</td>\n",
       "      <td>2</td>\n",
       "      <td>2</td>\n",
       "      <td>2</td>\n",
       "      <td>2</td>\n",
       "      <td>2</td>\n",
       "      <td>2</td>\n",
       "      <td>2</td>\n",
       "      <td>2</td>\n",
       "    </tr>\n",
       "    <tr>\n",
       "      <th>9</th>\n",
       "      <td>20</td>\n",
       "      <td>20</td>\n",
       "      <td>20</td>\n",
       "      <td>20</td>\n",
       "      <td>20</td>\n",
       "      <td>20</td>\n",
       "      <td>20</td>\n",
       "      <td>20</td>\n",
       "      <td>20</td>\n",
       "      <td>20</td>\n",
       "      <td>...</td>\n",
       "      <td>20</td>\n",
       "      <td>20</td>\n",
       "      <td>20</td>\n",
       "      <td>20</td>\n",
       "      <td>20</td>\n",
       "      <td>20</td>\n",
       "      <td>20</td>\n",
       "      <td>20</td>\n",
       "      <td>20</td>\n",
       "      <td>20</td>\n",
       "    </tr>\n",
       "  </tbody>\n",
       "</table>\n",
       "<p>10 rows × 18528 columns</p>\n",
       "</div>"
      ],
      "text/plain": [
       "    0   1   2   3   4   5   6   7   8   9  ...  18518  18519  18520  18521   \n",
       "0  15   2   2   2   2   2   2   3   7  20  ...      2      2      2      2  \\\n",
       "1  20  20  20  20  20  20  20  20  20  20  ...     20     20     20     20   \n",
       "2  20  20  20  20  20  20  20  20  20  20  ...     20     20     20     20   \n",
       "3  20  20  20  20  20  20  20  20  20  20  ...     38     38     38     38   \n",
       "4  15   2   2   2   2   2   2   2   2   2  ...      2      2      2      2   \n",
       "5  38  38  38  38  38  38  38  38  38  38  ...     20     20     20     20   \n",
       "6  38  38  38  38  38  38  38  38  38  38  ...     20     20     20     20   \n",
       "7  20  20  20  20  20  20  20  20  20  20  ...     20     20     20     20   \n",
       "8  25  38  38  38  38  38  38  38  38  38  ...      2      2      2      2   \n",
       "9  20  20  20  20  20  20  20  20  20  20  ...     20     20     20     20   \n",
       "\n",
       "   18522  18523  18524  18525  18526  18527  \n",
       "0      2      2      2      2      2      2  \n",
       "1     20     20     20     20     20     20  \n",
       "2     20     20     21     25     38     38  \n",
       "3     38     38     38     38     37     34  \n",
       "4      2      2      2      2      2      2  \n",
       "5     20     20     20     20     20     20  \n",
       "6     20     20     20     20     20     20  \n",
       "7     20     20     20     20     20     20  \n",
       "8      2      2      2      2      2      2  \n",
       "9     20     20     20     20     20     20  \n",
       "\n",
       "[10 rows x 18528 columns]"
      ]
     },
     "execution_count": 12,
     "metadata": {},
     "output_type": "execute_result"
    }
   ],
   "source": [
    "new_rep.head(10)"
   ]
  },
  {
   "cell_type": "code",
   "execution_count": 13,
   "metadata": {},
   "outputs": [
    {
     "name": "stdout",
     "output_type": "stream",
     "text": [
      "<class 'pandas.core.frame.DataFrame'>\n",
      "RangeIndex: 409 entries, 0 to 408\n",
      "Columns: 18528 entries, 0 to 18527\n",
      "dtypes: int64(18528)\n",
      "memory usage: 57.8 MB\n"
     ]
    }
   ],
   "source": [
    "new_rep.info()"
   ]
  },
  {
   "cell_type": "code",
   "execution_count": 14,
   "metadata": {},
   "outputs": [
    {
     "data": {
      "text/html": [
       "<div>\n",
       "<style scoped>\n",
       "    .dataframe tbody tr th:only-of-type {\n",
       "        vertical-align: middle;\n",
       "    }\n",
       "\n",
       "    .dataframe tbody tr th {\n",
       "        vertical-align: top;\n",
       "    }\n",
       "\n",
       "    .dataframe thead th {\n",
       "        text-align: right;\n",
       "    }\n",
       "</style>\n",
       "<table border=\"1\" class=\"dataframe\">\n",
       "  <thead>\n",
       "    <tr style=\"text-align: right;\">\n",
       "      <th></th>\n",
       "      <th>0</th>\n",
       "      <th>1</th>\n",
       "      <th>2</th>\n",
       "      <th>3</th>\n",
       "      <th>4</th>\n",
       "      <th>5</th>\n",
       "      <th>6</th>\n",
       "      <th>7</th>\n",
       "      <th>8</th>\n",
       "      <th>9</th>\n",
       "      <th>...</th>\n",
       "      <th>17</th>\n",
       "      <th>18</th>\n",
       "      <th>19</th>\n",
       "      <th>20</th>\n",
       "      <th>21</th>\n",
       "      <th>22</th>\n",
       "      <th>23</th>\n",
       "      <th>24</th>\n",
       "      <th>25</th>\n",
       "      <th>26</th>\n",
       "    </tr>\n",
       "  </thead>\n",
       "  <tbody>\n",
       "    <tr>\n",
       "      <th>0</th>\n",
       "      <td>0.196945</td>\n",
       "      <td>0.013817</td>\n",
       "      <td>0.000054</td>\n",
       "      <td>0.000594</td>\n",
       "      <td>0.013763</td>\n",
       "      <td>0.000486</td>\n",
       "      <td>0.000000</td>\n",
       "      <td>0.000000</td>\n",
       "      <td>0.000054</td>\n",
       "      <td>0.013925</td>\n",
       "      <td>...</td>\n",
       "      <td>0.013601</td>\n",
       "      <td>0.000000</td>\n",
       "      <td>0.000000</td>\n",
       "      <td>0.000000</td>\n",
       "      <td>0.000486</td>\n",
       "      <td>0.013277</td>\n",
       "      <td>0.000378</td>\n",
       "      <td>0.000000</td>\n",
       "      <td>0.013655</td>\n",
       "      <td>0.181833</td>\n",
       "    </tr>\n",
       "    <tr>\n",
       "      <th>1</th>\n",
       "      <td>0.047658</td>\n",
       "      <td>0.004588</td>\n",
       "      <td>0.000000</td>\n",
       "      <td>0.000162</td>\n",
       "      <td>0.004804</td>\n",
       "      <td>0.000054</td>\n",
       "      <td>0.000000</td>\n",
       "      <td>0.000000</td>\n",
       "      <td>0.000000</td>\n",
       "      <td>0.004588</td>\n",
       "      <td>...</td>\n",
       "      <td>0.004372</td>\n",
       "      <td>0.000000</td>\n",
       "      <td>0.000000</td>\n",
       "      <td>0.000000</td>\n",
       "      <td>0.000000</td>\n",
       "      <td>0.004372</td>\n",
       "      <td>0.000270</td>\n",
       "      <td>0.000000</td>\n",
       "      <td>0.004372</td>\n",
       "      <td>0.047873</td>\n",
       "    </tr>\n",
       "    <tr>\n",
       "      <th>2</th>\n",
       "      <td>0.052299</td>\n",
       "      <td>0.003940</td>\n",
       "      <td>0.000000</td>\n",
       "      <td>0.000108</td>\n",
       "      <td>0.003886</td>\n",
       "      <td>0.000108</td>\n",
       "      <td>0.000000</td>\n",
       "      <td>0.000000</td>\n",
       "      <td>0.000000</td>\n",
       "      <td>0.003940</td>\n",
       "      <td>...</td>\n",
       "      <td>0.003940</td>\n",
       "      <td>0.000000</td>\n",
       "      <td>0.000000</td>\n",
       "      <td>0.000000</td>\n",
       "      <td>0.000108</td>\n",
       "      <td>0.003778</td>\n",
       "      <td>0.000000</td>\n",
       "      <td>0.000000</td>\n",
       "      <td>0.003886</td>\n",
       "      <td>0.040857</td>\n",
       "    </tr>\n",
       "    <tr>\n",
       "      <th>3</th>\n",
       "      <td>0.147668</td>\n",
       "      <td>0.011604</td>\n",
       "      <td>0.000432</td>\n",
       "      <td>0.000270</td>\n",
       "      <td>0.010147</td>\n",
       "      <td>0.001781</td>\n",
       "      <td>0.000000</td>\n",
       "      <td>0.000000</td>\n",
       "      <td>0.000432</td>\n",
       "      <td>0.011928</td>\n",
       "      <td>...</td>\n",
       "      <td>0.010471</td>\n",
       "      <td>0.000108</td>\n",
       "      <td>0.000000</td>\n",
       "      <td>0.000000</td>\n",
       "      <td>0.000864</td>\n",
       "      <td>0.010201</td>\n",
       "      <td>0.000108</td>\n",
       "      <td>0.000108</td>\n",
       "      <td>0.010794</td>\n",
       "      <td>0.136820</td>\n",
       "    </tr>\n",
       "    <tr>\n",
       "      <th>4</th>\n",
       "      <td>0.150097</td>\n",
       "      <td>0.008366</td>\n",
       "      <td>0.000432</td>\n",
       "      <td>0.000486</td>\n",
       "      <td>0.007070</td>\n",
       "      <td>0.001565</td>\n",
       "      <td>0.000000</td>\n",
       "      <td>0.000000</td>\n",
       "      <td>0.000432</td>\n",
       "      <td>0.008474</td>\n",
       "      <td>...</td>\n",
       "      <td>0.007988</td>\n",
       "      <td>0.000378</td>\n",
       "      <td>0.000000</td>\n",
       "      <td>0.000000</td>\n",
       "      <td>0.001187</td>\n",
       "      <td>0.007070</td>\n",
       "      <td>0.000486</td>\n",
       "      <td>0.000378</td>\n",
       "      <td>0.008042</td>\n",
       "      <td>0.132286</td>\n",
       "    </tr>\n",
       "    <tr>\n",
       "      <th>...</th>\n",
       "      <td>...</td>\n",
       "      <td>...</td>\n",
       "      <td>...</td>\n",
       "      <td>...</td>\n",
       "      <td>...</td>\n",
       "      <td>...</td>\n",
       "      <td>...</td>\n",
       "      <td>...</td>\n",
       "      <td>...</td>\n",
       "      <td>...</td>\n",
       "      <td>...</td>\n",
       "      <td>...</td>\n",
       "      <td>...</td>\n",
       "      <td>...</td>\n",
       "      <td>...</td>\n",
       "      <td>...</td>\n",
       "      <td>...</td>\n",
       "      <td>...</td>\n",
       "      <td>...</td>\n",
       "      <td>...</td>\n",
       "      <td>...</td>\n",
       "    </tr>\n",
       "    <tr>\n",
       "      <th>404</th>\n",
       "      <td>0.076425</td>\n",
       "      <td>0.006099</td>\n",
       "      <td>0.000216</td>\n",
       "      <td>0.000108</td>\n",
       "      <td>0.005343</td>\n",
       "      <td>0.000648</td>\n",
       "      <td>0.000000</td>\n",
       "      <td>0.000000</td>\n",
       "      <td>0.000216</td>\n",
       "      <td>0.006315</td>\n",
       "      <td>...</td>\n",
       "      <td>0.005289</td>\n",
       "      <td>0.000000</td>\n",
       "      <td>0.000000</td>\n",
       "      <td>0.000000</td>\n",
       "      <td>0.000594</td>\n",
       "      <td>0.005073</td>\n",
       "      <td>0.000054</td>\n",
       "      <td>0.000000</td>\n",
       "      <td>0.005505</td>\n",
       "      <td>0.063202</td>\n",
       "    </tr>\n",
       "    <tr>\n",
       "      <th>405</th>\n",
       "      <td>0.216969</td>\n",
       "      <td>0.012036</td>\n",
       "      <td>0.000054</td>\n",
       "      <td>0.000324</td>\n",
       "      <td>0.011334</td>\n",
       "      <td>0.000972</td>\n",
       "      <td>0.000000</td>\n",
       "      <td>0.000054</td>\n",
       "      <td>0.000054</td>\n",
       "      <td>0.012144</td>\n",
       "      <td>...</td>\n",
       "      <td>0.013061</td>\n",
       "      <td>0.000000</td>\n",
       "      <td>0.000000</td>\n",
       "      <td>0.000000</td>\n",
       "      <td>0.000864</td>\n",
       "      <td>0.012953</td>\n",
       "      <td>0.000810</td>\n",
       "      <td>0.000000</td>\n",
       "      <td>0.013115</td>\n",
       "      <td>0.220423</td>\n",
       "    </tr>\n",
       "    <tr>\n",
       "      <th>406</th>\n",
       "      <td>0.111723</td>\n",
       "      <td>0.008042</td>\n",
       "      <td>0.000000</td>\n",
       "      <td>0.000216</td>\n",
       "      <td>0.007826</td>\n",
       "      <td>0.000594</td>\n",
       "      <td>0.000000</td>\n",
       "      <td>0.000054</td>\n",
       "      <td>0.000000</td>\n",
       "      <td>0.007934</td>\n",
       "      <td>...</td>\n",
       "      <td>0.009175</td>\n",
       "      <td>0.000108</td>\n",
       "      <td>0.000000</td>\n",
       "      <td>0.000000</td>\n",
       "      <td>0.000756</td>\n",
       "      <td>0.008690</td>\n",
       "      <td>0.000756</td>\n",
       "      <td>0.000108</td>\n",
       "      <td>0.009013</td>\n",
       "      <td>0.114098</td>\n",
       "    </tr>\n",
       "    <tr>\n",
       "      <th>407</th>\n",
       "      <td>0.062284</td>\n",
       "      <td>0.007556</td>\n",
       "      <td>0.000000</td>\n",
       "      <td>0.000054</td>\n",
       "      <td>0.006477</td>\n",
       "      <td>0.001187</td>\n",
       "      <td>0.000000</td>\n",
       "      <td>0.000000</td>\n",
       "      <td>0.000000</td>\n",
       "      <td>0.007502</td>\n",
       "      <td>...</td>\n",
       "      <td>0.006369</td>\n",
       "      <td>0.000054</td>\n",
       "      <td>0.000000</td>\n",
       "      <td>0.000000</td>\n",
       "      <td>0.000378</td>\n",
       "      <td>0.006099</td>\n",
       "      <td>0.000000</td>\n",
       "      <td>0.000054</td>\n",
       "      <td>0.006315</td>\n",
       "      <td>0.064767</td>\n",
       "    </tr>\n",
       "    <tr>\n",
       "      <th>408</th>\n",
       "      <td>0.107837</td>\n",
       "      <td>0.008366</td>\n",
       "      <td>0.000324</td>\n",
       "      <td>0.000378</td>\n",
       "      <td>0.007664</td>\n",
       "      <td>0.001079</td>\n",
       "      <td>0.000162</td>\n",
       "      <td>0.000000</td>\n",
       "      <td>0.000324</td>\n",
       "      <td>0.008150</td>\n",
       "      <td>...</td>\n",
       "      <td>0.008420</td>\n",
       "      <td>0.000594</td>\n",
       "      <td>0.000054</td>\n",
       "      <td>0.000108</td>\n",
       "      <td>0.000702</td>\n",
       "      <td>0.008312</td>\n",
       "      <td>0.000648</td>\n",
       "      <td>0.000540</td>\n",
       "      <td>0.008258</td>\n",
       "      <td>0.093210</td>\n",
       "    </tr>\n",
       "  </tbody>\n",
       "</table>\n",
       "<p>409 rows × 27 columns</p>\n",
       "</div>"
      ],
      "text/plain": [
       "           0         1         2         3         4         5         6    \n",
       "0    0.196945  0.013817  0.000054  0.000594  0.013763  0.000486  0.000000  \\\n",
       "1    0.047658  0.004588  0.000000  0.000162  0.004804  0.000054  0.000000   \n",
       "2    0.052299  0.003940  0.000000  0.000108  0.003886  0.000108  0.000000   \n",
       "3    0.147668  0.011604  0.000432  0.000270  0.010147  0.001781  0.000000   \n",
       "4    0.150097  0.008366  0.000432  0.000486  0.007070  0.001565  0.000000   \n",
       "..        ...       ...       ...       ...       ...       ...       ...   \n",
       "404  0.076425  0.006099  0.000216  0.000108  0.005343  0.000648  0.000000   \n",
       "405  0.216969  0.012036  0.000054  0.000324  0.011334  0.000972  0.000000   \n",
       "406  0.111723  0.008042  0.000000  0.000216  0.007826  0.000594  0.000000   \n",
       "407  0.062284  0.007556  0.000000  0.000054  0.006477  0.001187  0.000000   \n",
       "408  0.107837  0.008366  0.000324  0.000378  0.007664  0.001079  0.000162   \n",
       "\n",
       "           7         8         9   ...        17        18        19   \n",
       "0    0.000000  0.000054  0.013925  ...  0.013601  0.000000  0.000000  \\\n",
       "1    0.000000  0.000000  0.004588  ...  0.004372  0.000000  0.000000   \n",
       "2    0.000000  0.000000  0.003940  ...  0.003940  0.000000  0.000000   \n",
       "3    0.000000  0.000432  0.011928  ...  0.010471  0.000108  0.000000   \n",
       "4    0.000000  0.000432  0.008474  ...  0.007988  0.000378  0.000000   \n",
       "..        ...       ...       ...  ...       ...       ...       ...   \n",
       "404  0.000000  0.000216  0.006315  ...  0.005289  0.000000  0.000000   \n",
       "405  0.000054  0.000054  0.012144  ...  0.013061  0.000000  0.000000   \n",
       "406  0.000054  0.000000  0.007934  ...  0.009175  0.000108  0.000000   \n",
       "407  0.000000  0.000000  0.007502  ...  0.006369  0.000054  0.000000   \n",
       "408  0.000000  0.000324  0.008150  ...  0.008420  0.000594  0.000054   \n",
       "\n",
       "           20        21        22        23        24        25        26  \n",
       "0    0.000000  0.000486  0.013277  0.000378  0.000000  0.013655  0.181833  \n",
       "1    0.000000  0.000000  0.004372  0.000270  0.000000  0.004372  0.047873  \n",
       "2    0.000000  0.000108  0.003778  0.000000  0.000000  0.003886  0.040857  \n",
       "3    0.000000  0.000864  0.010201  0.000108  0.000108  0.010794  0.136820  \n",
       "4    0.000000  0.001187  0.007070  0.000486  0.000378  0.008042  0.132286  \n",
       "..        ...       ...       ...       ...       ...       ...       ...  \n",
       "404  0.000000  0.000594  0.005073  0.000054  0.000000  0.005505  0.063202  \n",
       "405  0.000000  0.000864  0.012953  0.000810  0.000000  0.013115  0.220423  \n",
       "406  0.000000  0.000756  0.008690  0.000756  0.000108  0.009013  0.114098  \n",
       "407  0.000000  0.000378  0.006099  0.000000  0.000054  0.006315  0.064767  \n",
       "408  0.000108  0.000702  0.008312  0.000648  0.000540  0.008258  0.093210  \n",
       "\n",
       "[409 rows x 27 columns]"
      ]
     },
     "execution_count": 14,
     "metadata": {},
     "output_type": "execute_result"
    }
   ],
   "source": [
    "# Calculate frequency of symbols for each instance\n",
    "\n",
    "symbols = np.unique(new_rep)\n",
    "classes = np.unique(labels)\n",
    "frequencies = new_rep.apply(lambda row : functions.calculate_frequency(row, symbols), axis=1)\n",
    "frequencies"
   ]
  },
  {
   "cell_type": "code",
   "execution_count": 15,
   "metadata": {},
   "outputs": [
    {
     "data": {
      "text/plain": [
       "array([ 2,  3,  4,  6,  7,  8, 10, 11, 12, 15, 16, 17, 19, 20, 21, 23, 24,\n",
       "       25, 28, 29, 30, 32, 33, 34, 36, 37, 38])"
      ]
     },
     "execution_count": 15,
     "metadata": {},
     "output_type": "execute_result"
    }
   ],
   "source": [
    "symbols"
   ]
  },
  {
   "cell_type": "code",
   "execution_count": 107,
   "metadata": {},
   "outputs": [
    {
     "data": {
      "text/plain": [
       "(409, 409)"
      ]
     },
     "execution_count": 107,
     "metadata": {},
     "output_type": "execute_result"
    }
   ],
   "source": [
    "# Calculate Jensenshannon distance\n",
    "\n",
    "from scipy.spatial.distance import squareform, jensenshannon\n",
    "from itertools import combinations\n",
    "\n",
    "pairwise_js = np.zeros((len(frequencies), len(frequencies)))\n",
    "pairwise_js[np.triu_indices(len(frequencies), k=1)] = [jensenshannon(x, y) for x, y in combinations(frequencies.values, r=2)]\n",
    "pairwise_js += pairwise_js.T\n",
    "pairwise_js = pairwise_js\n",
    "pairwise_js.shape"
   ]
  },
  {
   "cell_type": "code",
   "execution_count": 139,
   "metadata": {},
   "outputs": [],
   "source": [
    "eq_class_js = np.ones(pairwise_js.shape) * -1\n",
    "diff_class_js = np.ones(pairwise_js.shape) * -1\n",
    "\n",
    "for i in range(pairwise_js.shape[0]):\n",
    "    indexes = (labels[i + 1:] == labels[i])\n",
    "    p_tmp = pairwise_js[i, i + 1:]\n",
    "    # Get JS distance from instances that belong to the same class\n",
    "    eq_tmp = eq_class_js[i, i + 1:]\n",
    "    eq_tmp[indexes] = p_tmp[indexes]\n",
    "    # Get JS distance from instances that belong to the different classes\n",
    "    diff_tmp = diff_class_js[i, i + 1:]\n",
    "    diff_tmp[~indexes] = p_tmp[~indexes]"
   ]
  },
  {
   "cell_type": "code",
   "execution_count": 140,
   "metadata": {},
   "outputs": [],
   "source": [
    "eq_class_js = eq_class_js.flatten()\n",
    "eq_class_js = eq_class_js[np.where(eq_class_js != -1)]"
   ]
  },
  {
   "cell_type": "code",
   "execution_count": 141,
   "metadata": {},
   "outputs": [
    {
     "data": {
      "text/plain": [
       "(50546,)"
      ]
     },
     "execution_count": 141,
     "metadata": {},
     "output_type": "execute_result"
    }
   ],
   "source": [
    "eq_class_js.shape"
   ]
  },
  {
   "cell_type": "code",
   "execution_count": 142,
   "metadata": {},
   "outputs": [],
   "source": [
    "diff_class_js = diff_class_js.flatten()\n",
    "diff_class_js = diff_class_js[np.where(diff_class_js != -1)]"
   ]
  },
  {
   "cell_type": "code",
   "execution_count": 143,
   "metadata": {},
   "outputs": [
    {
     "data": {
      "text/plain": [
       "(32890,)"
      ]
     },
     "execution_count": 143,
     "metadata": {},
     "output_type": "execute_result"
    }
   ],
   "source": [
    "diff_class_js.shape"
   ]
  },
  {
   "cell_type": "code",
   "execution_count": 146,
   "metadata": {},
   "outputs": [
    {
     "ename": "ValueError",
     "evalue": "All arrays must be of the same length",
     "output_type": "error",
     "traceback": [
      "\u001b[0;31m---------------------------------------------------------------------------\u001b[0m",
      "\u001b[0;31mValueError\u001b[0m                                Traceback (most recent call last)",
      "Cell \u001b[0;32mIn[146], line 7\u001b[0m\n\u001b[1;32m      4\u001b[0m sns\u001b[39m.\u001b[39mset_context(\u001b[39m\"\u001b[39m\u001b[39mpaper\u001b[39m\u001b[39m\"\u001b[39m, rc\u001b[39m=\u001b[39m{\u001b[39m\"\u001b[39m\u001b[39mfont.size\u001b[39m\u001b[39m\"\u001b[39m:\u001b[39m15\u001b[39m,\u001b[39m\"\u001b[39m\u001b[39maxes.titlesize\u001b[39m\u001b[39m\"\u001b[39m:\u001b[39m15\u001b[39m,\u001b[39m\"\u001b[39m\u001b[39maxes.labelsize\u001b[39m\u001b[39m\"\u001b[39m:\u001b[39m15\u001b[39m})  \n\u001b[1;32m      5\u001b[0m plt\u001b[39m.\u001b[39mfigure(figsize\u001b[39m=\u001b[39m(\u001b[39m8\u001b[39m, \u001b[39m6\u001b[39m))\n\u001b[0;32m----> 7\u001b[0m combined_distances \u001b[39m=\u001b[39m pd\u001b[39m.\u001b[39;49mDataFrame({\u001b[39m'\u001b[39;49m\u001b[39mEqual Class\u001b[39;49m\u001b[39m'\u001b[39;49m : eq_class_js,\n\u001b[1;32m      8\u001b[0m                                     \u001b[39m'\u001b[39;49m\u001b[39mDifferent Class\u001b[39;49m\u001b[39m'\u001b[39;49m : diff_class_js})\n\u001b[1;32m     10\u001b[0m fig \u001b[39m=\u001b[39m sns\u001b[39m.\u001b[39mboxplot(data\u001b[39m=\u001b[39mcombined_distances, orient\u001b[39m=\u001b[39m\u001b[39m'\u001b[39m\u001b[39mh\u001b[39m\u001b[39m'\u001b[39m)\n\u001b[1;32m     11\u001b[0m fig\u001b[39m.\u001b[39mset_xlabel(\u001b[39mf\u001b[39m\u001b[39m'\u001b[39m\u001b[39mDistance\u001b[39m\u001b[39m'\u001b[39m)\n",
      "File \u001b[0;32m~/Documents/IC/.ic_venv/lib/python3.10/site-packages/pandas/core/frame.py:708\u001b[0m, in \u001b[0;36mDataFrame.__init__\u001b[0;34m(self, data, index, columns, dtype, copy)\u001b[0m\n\u001b[1;32m    702\u001b[0m     mgr \u001b[39m=\u001b[39m \u001b[39mself\u001b[39m\u001b[39m.\u001b[39m_init_mgr(\n\u001b[1;32m    703\u001b[0m         data, axes\u001b[39m=\u001b[39m{\u001b[39m\"\u001b[39m\u001b[39mindex\u001b[39m\u001b[39m\"\u001b[39m: index, \u001b[39m\"\u001b[39m\u001b[39mcolumns\u001b[39m\u001b[39m\"\u001b[39m: columns}, dtype\u001b[39m=\u001b[39mdtype, copy\u001b[39m=\u001b[39mcopy\n\u001b[1;32m    704\u001b[0m     )\n\u001b[1;32m    706\u001b[0m \u001b[39melif\u001b[39;00m \u001b[39misinstance\u001b[39m(data, \u001b[39mdict\u001b[39m):\n\u001b[1;32m    707\u001b[0m     \u001b[39m# GH#38939 de facto copy defaults to False only in non-dict cases\u001b[39;00m\n\u001b[0;32m--> 708\u001b[0m     mgr \u001b[39m=\u001b[39m dict_to_mgr(data, index, columns, dtype\u001b[39m=\u001b[39;49mdtype, copy\u001b[39m=\u001b[39;49mcopy, typ\u001b[39m=\u001b[39;49mmanager)\n\u001b[1;32m    709\u001b[0m \u001b[39melif\u001b[39;00m \u001b[39misinstance\u001b[39m(data, ma\u001b[39m.\u001b[39mMaskedArray):\n\u001b[1;32m    710\u001b[0m     \u001b[39mfrom\u001b[39;00m \u001b[39mnumpy\u001b[39;00m\u001b[39m.\u001b[39;00m\u001b[39mma\u001b[39;00m \u001b[39mimport\u001b[39;00m mrecords\n",
      "File \u001b[0;32m~/Documents/IC/.ic_venv/lib/python3.10/site-packages/pandas/core/internals/construction.py:481\u001b[0m, in \u001b[0;36mdict_to_mgr\u001b[0;34m(data, index, columns, dtype, typ, copy)\u001b[0m\n\u001b[1;32m    477\u001b[0m     \u001b[39melse\u001b[39;00m:\n\u001b[1;32m    478\u001b[0m         \u001b[39m# dtype check to exclude e.g. range objects, scalars\u001b[39;00m\n\u001b[1;32m    479\u001b[0m         arrays \u001b[39m=\u001b[39m [x\u001b[39m.\u001b[39mcopy() \u001b[39mif\u001b[39;00m \u001b[39mhasattr\u001b[39m(x, \u001b[39m\"\u001b[39m\u001b[39mdtype\u001b[39m\u001b[39m\"\u001b[39m) \u001b[39melse\u001b[39;00m x \u001b[39mfor\u001b[39;00m x \u001b[39min\u001b[39;00m arrays]\n\u001b[0;32m--> 481\u001b[0m \u001b[39mreturn\u001b[39;00m arrays_to_mgr(arrays, columns, index, dtype\u001b[39m=\u001b[39;49mdtype, typ\u001b[39m=\u001b[39;49mtyp, consolidate\u001b[39m=\u001b[39;49mcopy)\n",
      "File \u001b[0;32m~/Documents/IC/.ic_venv/lib/python3.10/site-packages/pandas/core/internals/construction.py:115\u001b[0m, in \u001b[0;36marrays_to_mgr\u001b[0;34m(arrays, columns, index, dtype, verify_integrity, typ, consolidate)\u001b[0m\n\u001b[1;32m    112\u001b[0m \u001b[39mif\u001b[39;00m verify_integrity:\n\u001b[1;32m    113\u001b[0m     \u001b[39m# figure out the index, if necessary\u001b[39;00m\n\u001b[1;32m    114\u001b[0m     \u001b[39mif\u001b[39;00m index \u001b[39mis\u001b[39;00m \u001b[39mNone\u001b[39;00m:\n\u001b[0;32m--> 115\u001b[0m         index \u001b[39m=\u001b[39m _extract_index(arrays)\n\u001b[1;32m    116\u001b[0m     \u001b[39melse\u001b[39;00m:\n\u001b[1;32m    117\u001b[0m         index \u001b[39m=\u001b[39m ensure_index(index)\n",
      "File \u001b[0;32m~/Documents/IC/.ic_venv/lib/python3.10/site-packages/pandas/core/internals/construction.py:655\u001b[0m, in \u001b[0;36m_extract_index\u001b[0;34m(data)\u001b[0m\n\u001b[1;32m    653\u001b[0m lengths \u001b[39m=\u001b[39m \u001b[39mlist\u001b[39m(\u001b[39mset\u001b[39m(raw_lengths))\n\u001b[1;32m    654\u001b[0m \u001b[39mif\u001b[39;00m \u001b[39mlen\u001b[39m(lengths) \u001b[39m>\u001b[39m \u001b[39m1\u001b[39m:\n\u001b[0;32m--> 655\u001b[0m     \u001b[39mraise\u001b[39;00m \u001b[39mValueError\u001b[39;00m(\u001b[39m\"\u001b[39m\u001b[39mAll arrays must be of the same length\u001b[39m\u001b[39m\"\u001b[39m)\n\u001b[1;32m    657\u001b[0m \u001b[39mif\u001b[39;00m have_dicts:\n\u001b[1;32m    658\u001b[0m     \u001b[39mraise\u001b[39;00m \u001b[39mValueError\u001b[39;00m(\n\u001b[1;32m    659\u001b[0m         \u001b[39m\"\u001b[39m\u001b[39mMixing dicts with non-Series may lead to ambiguous ordering.\u001b[39m\u001b[39m\"\u001b[39m\n\u001b[1;32m    660\u001b[0m     )\n",
      "\u001b[0;31mValueError\u001b[0m: All arrays must be of the same length"
     ]
    },
    {
     "data": {
      "text/plain": [
       "<Figure size 800x600 with 0 Axes>"
      ]
     },
     "metadata": {},
     "output_type": "display_data"
    }
   ],
   "source": [
    "\n",
    "import seaborn as sns\n",
    "import matplotlib.pyplot as plt\n",
    "sns.set_theme(style='whitegrid')\n",
    "sns.set_context(\"paper\", rc={\"font.size\":15,\"axes.titlesize\":15,\"axes.labelsize\":15})  \n",
    "plt.figure(figsize=(8, 6))\n",
    "\n",
    "eq_class = pd.Series(eq_class_js)\n",
    "diff_class = pd.Series(diff_class_js)\n",
    "combined_distances = pd.DataFrame({'Equal Class' : eq_class,\n",
    "                                    'Different Class' : diff_class})\n",
    "\n",
    "fig = sns.boxplot(data=combined_distances, orient='h')\n",
    "fig.set_xlabel(f'Distance')"
   ]
  },
  {
   "cell_type": "code",
   "execution_count": 22,
   "metadata": {},
   "outputs": [],
   "source": [
    "# HASC\n",
    "# new_data = []\n",
    "# for i in range(1, len(real_cp)):\n",
    "#     # create new representation for each instance\n",
    "#     series = sax_data.iloc[real_cp[i - 1] : real_cp[i] + 1].T.squeeze(axis=0)\n",
    "#     new_representation = functions.create_new_representation(series, window_size=param[1], dict=symbols_dict)\n",
    "#     new_data.append(new_representation)\n",
    "# new_data = np.array(new_data)"
   ]
  },
  {
   "cell_type": "code",
   "execution_count": 23,
   "metadata": {},
   "outputs": [
    {
     "name": "stdout",
     "output_type": "stream",
     "text": [
      "(1, nan)\n",
      "(2, 1.0)\n",
      "(3, 2.0)\n",
      "(4, 3.0)\n"
     ]
    }
   ],
   "source": [
    "a = pd.Series([1, 2, 3, 4])\n",
    "b = pd.Series([10, 20, 30, 40])\n",
    "for x in zip(a, a.shift()):\n",
    "    print(x)"
   ]
  }
 ],
 "metadata": {
  "kernelspec": {
   "display_name": ".ic_venv",
   "language": "python",
   "name": "python3"
  },
  "language_info": {
   "codemirror_mode": {
    "name": "ipython",
    "version": 3
   },
   "file_extension": ".py",
   "mimetype": "text/x-python",
   "name": "python",
   "nbconvert_exporter": "python",
   "pygments_lexer": "ipython3",
   "version": "3.10.12"
  },
  "orig_nbformat": 4
 },
 "nbformat": 4,
 "nbformat_minor": 2
}
