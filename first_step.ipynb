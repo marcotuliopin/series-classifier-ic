{
 "cells": [
  {
   "cell_type": "markdown",
   "metadata": {},
   "source": [
    "## Imports"
   ]
  },
  {
   "cell_type": "code",
   "execution_count": 1,
   "metadata": {},
   "outputs": [],
   "source": [
    "import pandas as pd\n",
    "import numpy as np\n",
    "from scipy.io import arff \n",
    "from ordpy import complexity_entropy\n",
    "\n",
    "import functions\n",
    "import export_creation"
   ]
  },
  {
   "cell_type": "markdown",
   "metadata": {},
   "source": [
    "## Functions definition"
   ]
  },
  {
   "cell_type": "code",
   "execution_count": 2,
   "metadata": {},
   "outputs": [],
   "source": [
    "def main(param, DATA_NAME, PLOT, values, labels):\n",
    "    \"\"\"\n",
    "    Given a dataset, with it's respective values and labels, creates a new representation for the data, using SAX transformation. After that,\n",
    "    groups close symbols in the series, according to a given parameter.\n",
    "\n",
    "    -----------\n",
    "    Parameters:\n",
    "    param (tuple): (number of bins, window_size)\n",
    "    DATA_NAME (string): name of the folder in which to put the metrics and figures for the dataset.\n",
    "    PLOT (bool): indicates if a histogram of the symbols distribution is to be plotted.\n",
    "    values (pd.Dataframe): values of the dataset.\n",
    "    labels (pd.Series): labels of the dataset.\n",
    "\n",
    "    -----------\n",
    "    Returns:\n",
    "    new_rep (pd.Dataframe): new representation for the data values.\n",
    "    \"\"\"\n",
    "\n",
    "    # Perform SAX transformation\n",
    "    sax_values = functions.run_sax(values, n_bins=param[0])\n",
    "    sax_data = pd.DataFrame(sax_values.reshape(values.shape))\n",
    "\n",
    "    # Compute dictionary of symbols\n",
    "    symbols_dict = functions.compute_symbols_dictionary(np.unique(sax_values), window_size=param[1])\n",
    "\n",
    "    # Create new representation using sliding windows\n",
    "    new_rep = sax_data.apply(lambda row : functions.create_new_representation(row, window_size=param[1], dict=symbols_dict), axis=1)\n",
    "\n",
    "    # Calculate jensenshannon distance based on the new representation\n",
    "    pairwise_js = functions.calculate_js_distance(new_rep)\n",
    "    print(pairwise_js.shape)\n",
    "    eq_class, diff_class = functions.get_js_by_class(pairwise_js, labels)\n",
    "    export_creation.save_js_metrics(eq_class, diff_class, DATA_NAME, param[1], param[0])\n",
    "\n",
    "    # Calculate entropy and statistical complexity of the data\n",
    "    comp_entrop = [complexity_entropy(new_rep[i]) for i in range(new_rep.shape[0])]\n",
    "    comp_entrop = pd.DataFrame(comp_entrop, columns=['entropy', 'statistical_complexity'])\n",
    "    export_creation.plot_entropy_sc(comp_entrop, labels, DATA_NAME, param[1], param[0])\n",
    "\n",
    "    return new_rep"
   ]
  },
  {
   "cell_type": "code",
   "execution_count": 3,
   "metadata": {},
   "outputs": [],
   "source": [
    "def load_data(DATA_NAME):\n",
    "    \"\"\"\n",
    "    Load a dataset.\n",
    "    \"\"\"\n",
    "    data = arff.loadarff(f'../data/{DATA_NAME}.arff')\n",
    "    data = pd.DataFrame(data[0])\n",
    "    labels = data['target']\n",
    "    values = data.drop('target', axis=1)\n",
    "    return values, labels"
   ]
  },
  {
   "cell_type": "markdown",
   "metadata": {},
   "source": [
    "## Run databases"
   ]
  },
  {
   "cell_type": "markdown",
   "metadata": {},
   "source": [
    "### Time Series Classification"
   ]
  },
  {
   "cell_type": "code",
   "execution_count": 4,
   "metadata": {},
   "outputs": [],
   "source": [
    "# DATA_NAME1 = 'AbnormalHeartbeat/AbnormalHeartbeat_TRAIN'\n",
    "# DATA_NAME2 = 'AbnormalHeartbeat/AbnormalHeartbeat_TEST'\n",
    "# PLOT_NAME = 'AbnormalHeartbeat'"
   ]
  },
  {
   "cell_type": "code",
   "execution_count": 5,
   "metadata": {},
   "outputs": [],
   "source": [
    "# DATA_NAME1 = 'ArticularyWordRecognition/ArticularyWordRecognition_TRAIN'\n",
    "# DATA_NAME2 = 'ArticularyWordRecognition/ArticularyWordRecognition_TEST'\n",
    "# PLOT_NAME = 'ArticularyWordRecognition'"
   ]
  },
  {
   "cell_type": "code",
   "execution_count": 6,
   "metadata": {},
   "outputs": [],
   "source": [
    "# DATA_NAME1 = 'Car/Car_TEST'\n",
    "# DATA_NAME2 = 'Car/Car_TRAIN'\n",
    "# PLOT_NAME = 'Car'"
   ]
  },
  {
   "cell_type": "code",
   "execution_count": 7,
   "metadata": {},
   "outputs": [],
   "source": [
    "# DATA_NAME1 = 'ChlorineConcentration/ChlorineConcentration_TRAIN'\n",
    "# DATA_NAME2 = 'ChlorineConcentration/ChlorineConcentration_TEST'\n",
    "# PLOT_NAME = 'ChlorineConcentration'"
   ]
  },
  {
   "cell_type": "code",
   "execution_count": 8,
   "metadata": {},
   "outputs": [],
   "source": [
    "# DATA_NAME1 = 'ACSF1/ACSF1_TEST'\n",
    "# DATA_NAME2= 'ACSF1/ACSF1_TRAIN'\n",
    "# PLOT_NAME = 'ACSF1'"
   ]
  },
  {
   "cell_type": "code",
   "execution_count": 9,
   "metadata": {},
   "outputs": [],
   "source": [
    "# DATA_NAME1 = 'SyntheticControl/SyntheticControl_TRAIN' \n",
    "# DATA_NAME2 = 'SyntheticControl/SyntheticControl_TEST' \n",
    "# PLOT_NAME = 'SyntheticControl'"
   ]
  },
  {
   "cell_type": "code",
   "execution_count": 10,
   "metadata": {},
   "outputs": [],
   "source": [
    "# DATA_NAME1 = 'TwoPatterns/TwoPatterns_TRAIN'\n",
    "# DATA_NAME2 = 'TwoPatterns/TwoPatterns_TEST'\n",
    "# PLOT_NAME = 'TwoPatterns'"
   ]
  },
  {
   "cell_type": "code",
   "execution_count": 11,
   "metadata": {},
   "outputs": [],
   "source": [
    "# DATA_NAME1 = 'BeetleFly/BeetleFly_TRAIN'\n",
    "# DATA_NAME2 = 'BeetleFly/BeetleFly_TEST'\n",
    "# PLOT_NAME = 'BeetleFly'"
   ]
  },
  {
   "cell_type": "code",
   "execution_count": 12,
   "metadata": {},
   "outputs": [],
   "source": [
    "# DATA_NAME1 = 'BirdChicken/BirdChicken_TRAIN'\n",
    "# DATA_NAME2 = 'BirdChicken/BirdChicken_TEST'\n",
    "# PLOT_NAME = 'BirdChicken'"
   ]
  },
  {
   "cell_type": "markdown",
   "metadata": {},
   "source": [
    "### HASC"
   ]
  },
  {
   "cell_type": "code",
   "execution_count": 13,
   "metadata": {},
   "outputs": [
    {
     "name": "stdout",
     "output_type": "stream",
     "text": [
      "10877\n",
      "9745\n",
      "8929\n",
      "7833\n",
      "6950\n",
      "5986\n",
      "5008\n",
      "3947\n",
      "2926\n",
      "2024\n",
      "1074\n",
      "51276.819\n",
      "51276.819\n",
      "51276.819\n",
      "51276.819\n",
      "51276.819\n",
      "51276.819\n",
      "51276.819\n",
      "51276.819\n",
      "51276.819\n",
      "51276.819\n",
      "51276.819\n",
      "51276.819\n"
     ]
    }
   ],
   "source": [
    "DATA_NAME1 = DATA_NAME2 = ''\n",
    "PLOT_NAME = 'HASC1001'\n",
    "\n",
    "dados_info = \"dados_2\"\n",
    "data_group_name = \"person101\"\n",
    "database_name = \"HASC1002\"\n",
    "colnames = [\"x\", \"y\", \"z\"]\n",
    "\n",
    "df = pd.read_parquet(\"../data/01_og_HASC/{}/{}/{}_concat.parquet\".format(dados_info, data_group_name, database_name))\n",
    "df_label = pd.read_csv(\"../data/01_og_HASC/{}/{}/{}.label\".format(dados_info, data_group_name, database_name), header=None)\n",
    "df_label.columns = [\"timestamp_start\", \"timestamp_end\", \"classe\"]\n",
    "df.reset_index(drop=True, inplace=True)\n",
    "\n",
    "for tmps in df_label[\"timestamp_end\"][:-1]:\n",
    "    print(len(df[df[\"timestamp\"] >= tmps][\"timestamp\"]))\n",
    "    \n",
    "real_cp = []\n",
    "for tmp_start, tmp_end in zip(df_label[\"timestamp_start\"],df_label[\"timestamp_end\"]) :\n",
    "    print(tmps)\n",
    "    min_tmp = max(df[(df[\"timestamp\"] >= tmp_start) & (df[\"timestamp\"] <= tmp_end)][\"timestamp\"])\n",
    "    index_ch = df[df[\"timestamp\"] == min_tmp].index.values[0]+1\n",
    "    real_cp.append(index_ch)"
   ]
  },
  {
   "cell_type": "code",
   "execution_count": 14,
   "metadata": {},
   "outputs": [
    {
     "data": {
      "text/html": [
       "<div>\n",
       "<style scoped>\n",
       "    .dataframe tbody tr th:only-of-type {\n",
       "        vertical-align: middle;\n",
       "    }\n",
       "\n",
       "    .dataframe tbody tr th {\n",
       "        vertical-align: top;\n",
       "    }\n",
       "\n",
       "    .dataframe thead th {\n",
       "        text-align: right;\n",
       "    }\n",
       "</style>\n",
       "<table border=\"1\" class=\"dataframe\">\n",
       "  <thead>\n",
       "    <tr style=\"text-align: right;\">\n",
       "      <th></th>\n",
       "      <th>timestamp</th>\n",
       "      <th>y</th>\n",
       "      <th>z</th>\n",
       "      <th>x</th>\n",
       "    </tr>\n",
       "  </thead>\n",
       "  <tbody>\n",
       "    <tr>\n",
       "      <th>0</th>\n",
       "      <td>51167.811728</td>\n",
       "      <td>0.434692</td>\n",
       "      <td>-1.014282</td>\n",
       "      <td>-0.054337</td>\n",
       "    </tr>\n",
       "    <tr>\n",
       "      <th>1</th>\n",
       "      <td>51167.821761</td>\n",
       "      <td>0.398468</td>\n",
       "      <td>-1.032394</td>\n",
       "      <td>-0.090561</td>\n",
       "    </tr>\n",
       "    <tr>\n",
       "      <th>2</th>\n",
       "      <td>51167.831841</td>\n",
       "      <td>0.326019</td>\n",
       "      <td>-1.032394</td>\n",
       "      <td>-0.126785</td>\n",
       "    </tr>\n",
       "    <tr>\n",
       "      <th>3</th>\n",
       "      <td>51167.841878</td>\n",
       "      <td>0.253571</td>\n",
       "      <td>-0.996170</td>\n",
       "      <td>-0.144897</td>\n",
       "    </tr>\n",
       "    <tr>\n",
       "      <th>4</th>\n",
       "      <td>51167.852130</td>\n",
       "      <td>0.199234</td>\n",
       "      <td>-0.905609</td>\n",
       "      <td>-0.108673</td>\n",
       "    </tr>\n",
       "    <tr>\n",
       "      <th>...</th>\n",
       "      <td>...</td>\n",
       "      <td>...</td>\n",
       "      <td>...</td>\n",
       "      <td>...</td>\n",
       "    </tr>\n",
       "    <tr>\n",
       "      <th>11762</th>\n",
       "      <td>51287.730476</td>\n",
       "      <td>0.271683</td>\n",
       "      <td>0.235458</td>\n",
       "      <td>0.054337</td>\n",
       "    </tr>\n",
       "    <tr>\n",
       "      <th>11763</th>\n",
       "      <td>51287.740646</td>\n",
       "      <td>0.253571</td>\n",
       "      <td>0.253571</td>\n",
       "      <td>0.217346</td>\n",
       "    </tr>\n",
       "    <tr>\n",
       "      <th>11764</th>\n",
       "      <td>51287.750888</td>\n",
       "      <td>0.217346</td>\n",
       "      <td>0.144897</td>\n",
       "      <td>0.199234</td>\n",
       "    </tr>\n",
       "    <tr>\n",
       "      <th>11765</th>\n",
       "      <td>51287.761077</td>\n",
       "      <td>0.217346</td>\n",
       "      <td>0.054337</td>\n",
       "      <td>-0.108673</td>\n",
       "    </tr>\n",
       "    <tr>\n",
       "      <th>11766</th>\n",
       "      <td>51287.771262</td>\n",
       "      <td>0.271683</td>\n",
       "      <td>0.072449</td>\n",
       "      <td>-0.398468</td>\n",
       "    </tr>\n",
       "  </tbody>\n",
       "</table>\n",
       "<p>11767 rows × 4 columns</p>\n",
       "</div>"
      ],
      "text/plain": [
       "          timestamp         y         z         x\n",
       "0      51167.811728  0.434692 -1.014282 -0.054337\n",
       "1      51167.821761  0.398468 -1.032394 -0.090561\n",
       "2      51167.831841  0.326019 -1.032394 -0.126785\n",
       "3      51167.841878  0.253571 -0.996170 -0.144897\n",
       "4      51167.852130  0.199234 -0.905609 -0.108673\n",
       "...             ...       ...       ...       ...\n",
       "11762  51287.730476  0.271683  0.235458  0.054337\n",
       "11763  51287.740646  0.253571  0.253571  0.217346\n",
       "11764  51287.750888  0.217346  0.144897  0.199234\n",
       "11765  51287.761077  0.217346  0.054337 -0.108673\n",
       "11766  51287.771262  0.271683  0.072449 -0.398468\n",
       "\n",
       "[11767 rows x 4 columns]"
      ]
     },
     "execution_count": 14,
     "metadata": {},
     "output_type": "execute_result"
    }
   ],
   "source": [
    "df"
   ]
  },
  {
   "cell_type": "code",
   "execution_count": 15,
   "metadata": {},
   "outputs": [],
   "source": [
    "data = df.drop(columns='timestamp').apply(lambda x:np.linalg.norm(x.values), axis=1)\n",
    "data = data.drop(index=[i for i in range(real_cp[0])]).reset_index(drop=True)\n",
    "start_p = real_cp[0]\n",
    "real_cp = [cp - start_p for cp in real_cp]\n",
    "data = data.drop(index=[i for i in range(real_cp[-1], len(data))]).reset_index(drop=True)"
   ]
  },
  {
   "cell_type": "code",
   "execution_count": 16,
   "metadata": {},
   "outputs": [
    {
     "data": {
      "text/plain": [
       "[0, 1132, 1948, 3044, 3927, 4891, 5869, 6930, 7951, 8853, 9803, 10855]"
      ]
     },
     "execution_count": 16,
     "metadata": {},
     "output_type": "execute_result"
    }
   ],
   "source": [
    "real_cp"
   ]
  },
  {
   "cell_type": "code",
   "execution_count": 17,
   "metadata": {},
   "outputs": [
    {
     "data": {
      "text/plain": [
       "0       walk\n",
       "1        jog\n",
       "2       stay\n",
       "3     stDown\n",
       "4       stay\n",
       "5       stUp\n",
       "6       walk\n",
       "7        jog\n",
       "8       skip\n",
       "9       walk\n",
       "10      stay\n",
       "Name: classe, dtype: object"
      ]
     },
     "execution_count": 17,
     "metadata": {},
     "output_type": "execute_result"
    }
   ],
   "source": [
    "df_label = df_label.drop(index=11)['classe']\n",
    "df_label"
   ]
  },
  {
   "cell_type": "code",
   "execution_count": 18,
   "metadata": {},
   "outputs": [],
   "source": [
    "sequences = np.split(data.to_numpy(), real_cp[1:-1])"
   ]
  },
  {
   "cell_type": "code",
   "execution_count": 19,
   "metadata": {},
   "outputs": [
    {
     "name": "stderr",
     "output_type": "stream",
     "text": [
      "2023-08-09 14:18:29.759188: I tensorflow/tsl/cuda/cudart_stub.cc:28] Could not find cuda drivers on your machine, GPU will not be used.\n",
      "2023-08-09 14:18:29.907440: I tensorflow/tsl/cuda/cudart_stub.cc:28] Could not find cuda drivers on your machine, GPU will not be used.\n",
      "2023-08-09 14:18:29.908809: I tensorflow/core/platform/cpu_feature_guard.cc:182] This TensorFlow binary is optimized to use available CPU instructions in performance-critical operations.\n",
      "To enable the following instructions: AVX2 FMA, in other operations, rebuild TensorFlow with the appropriate compiler flags.\n",
      "2023-08-09 14:18:32.354346: W tensorflow/compiler/tf2tensorrt/utils/py_utils.cc:38] TF-TRT Warning: Could not find TensorRT\n",
      "/home/marco/Documents/IC/.ic_venv/lib/python3.10/site-packages/tqdm/auto.py:21: TqdmWarning: IProgress not found. Please update jupyter and ipywidgets. See https://ipywidgets.readthedocs.io/en/stable/user_install.html\n",
      "  from .autonotebook import tqdm as notebook_tqdm\n"
     ]
    }
   ],
   "source": [
    "from keras.utils import timeseries_dataset_from_array\n",
    "import tensorflow_datasets as tfds\n",
    "\n",
    "SEQUENCE_LEN = 1000\n",
    "OVERLAP = 0.9\n",
    "\n",
    "def split_times_series(series, seq_len, overlap):\n",
    "    dataset = timeseries_dataset_from_array(data=series, \n",
    "                                            targets=None, \n",
    "                                            sequence_length=seq_len,\n",
    "                                            sampling_rate=1,\n",
    "                                            sequence_stride=seq_len*(1 - overlap),\n",
    "                                            batch_size=None)\n",
    "    df = pd.DataFrame(tfds.as_numpy(dataset))\n",
    "    return df"
   ]
  },
  {
   "cell_type": "code",
   "execution_count": 20,
   "metadata": {},
   "outputs": [
    {
     "name": "stderr",
     "output_type": "stream",
     "text": [
      "2023-08-09 14:18:34.795544: I tensorflow/compiler/xla/stream_executor/cuda/cuda_gpu_executor.cc:995] successful NUMA node read from SysFS had negative value (-1), but there must be at least one NUMA node, so returning NUMA node zero. See more at https://github.com/torvalds/linux/blob/v6.0/Documentation/ABI/testing/sysfs-bus-pci#L344-L355\n",
      "2023-08-09 14:18:34.796426: W tensorflow/core/common_runtime/gpu/gpu_device.cc:1960] Cannot dlopen some GPU libraries. Please make sure the missing libraries mentioned above are installed properly if you would like to use GPU. Follow the guide at https://www.tensorflow.org/install/gpu for how to download and setup the required libraries for your platform.\n",
      "Skipping registering GPU devices...\n"
     ]
    }
   ],
   "source": [
    "labels = []\n",
    "split_sequences = []\n",
    "for seq, label in zip(sequences, df_label):\n",
    "    split_sequences.append(split_times_series(seq, SEQUENCE_LEN, OVERLAP))\n",
    "    labels += [label] * len(split_sequences[-1])\n",
    "data = pd.concat(split_sequences).reset_index(drop=True)\n",
    "labels = pd.Series(labels)"
   ]
  },
  {
   "cell_type": "markdown",
   "metadata": {},
   "source": [
    "## Execution"
   ]
  },
  {
   "cell_type": "code",
   "execution_count": 21,
   "metadata": {},
   "outputs": [],
   "source": [
    "# Parameters\n",
    "\n",
    "PARAM = [(3, 3), (3, 4), (3, 5), (4, 3), (4, 4), (4, 5)] # (n_bins, window_size)\n",
    "# PARAM = [(5, 3), (5, 4), (5, 5)]\n",
    "param = (3, 3)\n",
    "PLOT = False\n",
    "HASC = True"
   ]
  },
  {
   "cell_type": "code",
   "execution_count": 22,
   "metadata": {},
   "outputs": [],
   "source": [
    "# Load data\n",
    "\n",
    "if not HASC:\n",
    "    data, labels = load_data(DATA_NAME1)\n",
    "\n",
    "    if DATA_NAME2:\n",
    "        data1, labels1 = load_data(DATA_NAME2)\n",
    "        data = pd.concat([data, data1], ignore_index=True)\n",
    "        labels = pd.concat([labels, labels1], ignore_index=True)"
   ]
  },
  {
   "cell_type": "code",
   "execution_count": 23,
   "metadata": {},
   "outputs": [
    {
     "name": "stdout",
     "output_type": "stream",
     "text": [
      "<class 'pandas.core.frame.DataFrame'>\n",
      "RangeIndex: 32 entries, 0 to 31\n",
      "Columns: 500 entries, 0 to 499\n",
      "dtypes: float64(500)\n",
      "memory usage: 125.1 KB\n"
     ]
    }
   ],
   "source": [
    "data.info()"
   ]
  },
  {
   "cell_type": "code",
   "execution_count": 24,
   "metadata": {},
   "outputs": [
    {
     "name": "stdout",
     "output_type": "stream",
     "text": [
      "<class 'pandas.core.series.Series'>\n",
      "RangeIndex: 32 entries, 0 to 31\n",
      "Series name: None\n",
      "Non-Null Count  Dtype \n",
      "--------------  ----- \n",
      "32 non-null     object\n",
      "dtypes: object(1)\n",
      "memory usage: 384.0+ bytes\n"
     ]
    }
   ],
   "source": [
    "labels.info()"
   ]
  },
  {
   "cell_type": "code",
   "execution_count": 25,
   "metadata": {},
   "outputs": [
    {
     "name": "stdout",
     "output_type": "stream",
     "text": [
      "\n",
      "n_bins: 3, window_size: 3\n"
     ]
    },
    {
     "name": "stdout",
     "output_type": "stream",
     "text": [
      "(32, 32)\n",
      "\n",
      "n_bins: 3, window_size: 4\n",
      "(32, 32)\n",
      "\n",
      "n_bins: 3, window_size: 5\n",
      "(32, 32)\n",
      "\n",
      "n_bins: 4, window_size: 3\n",
      "(32, 32)\n",
      "\n",
      "n_bins: 4, window_size: 4\n",
      "(32, 32)\n",
      "\n",
      "n_bins: 4, window_size: 5\n",
      "(32, 32)\n"
     ]
    }
   ],
   "source": [
    "for param in PARAM:\n",
    "    print()\n",
    "    print(f'n_bins: {param[0]}, window_size: {param[1]}')\n",
    "    main(param, PLOT_NAME, PLOT, data, labels)"
   ]
  },
  {
   "cell_type": "code",
   "execution_count": 26,
   "metadata": {},
   "outputs": [],
   "source": [
    "# Perform SAX transformation\n",
    "\n",
    "sax_values = functions.run_sax(data, n_bins=param[0])\n",
    "symbols_dict = functions.compute_symbols_dictionary(np.unique(sax_values), window_size=param[1])\n",
    "sax_data = pd.DataFrame(sax_values.reshape(data.shape))"
   ]
  },
  {
   "cell_type": "code",
   "execution_count": 27,
   "metadata": {},
   "outputs": [],
   "source": [
    "# Create new representation using sliding window\n",
    "\n",
    "new_rep = sax_data.apply(lambda row : functions.create_new_representation(row, window_size=param[1], dict=symbols_dict), axis=1)"
   ]
  },
  {
   "cell_type": "code",
   "execution_count": 28,
   "metadata": {},
   "outputs": [],
   "source": [
    "# new_rep.to_csv('./new_rep.csv', index=None)"
   ]
  },
  {
   "cell_type": "code",
   "execution_count": 29,
   "metadata": {},
   "outputs": [],
   "source": [
    "new_rep = pd.read_csv('./new_rep.csv', index_col=False)"
   ]
  },
  {
   "cell_type": "code",
   "execution_count": 30,
   "metadata": {},
   "outputs": [
    {
     "data": {
      "text/html": [
       "<div>\n",
       "<style scoped>\n",
       "    .dataframe tbody tr th:only-of-type {\n",
       "        vertical-align: middle;\n",
       "    }\n",
       "\n",
       "    .dataframe tbody tr th {\n",
       "        vertical-align: top;\n",
       "    }\n",
       "\n",
       "    .dataframe thead th {\n",
       "        text-align: right;\n",
       "    }\n",
       "</style>\n",
       "<table border=\"1\" class=\"dataframe\">\n",
       "  <thead>\n",
       "    <tr style=\"text-align: right;\">\n",
       "      <th></th>\n",
       "      <th>0</th>\n",
       "      <th>1</th>\n",
       "      <th>2</th>\n",
       "      <th>3</th>\n",
       "      <th>4</th>\n",
       "      <th>5</th>\n",
       "      <th>6</th>\n",
       "      <th>7</th>\n",
       "      <th>8</th>\n",
       "      <th>9</th>\n",
       "      <th>...</th>\n",
       "      <th>488</th>\n",
       "      <th>489</th>\n",
       "      <th>490</th>\n",
       "      <th>491</th>\n",
       "      <th>492</th>\n",
       "      <th>493</th>\n",
       "      <th>494</th>\n",
       "      <th>495</th>\n",
       "      <th>496</th>\n",
       "      <th>497</th>\n",
       "    </tr>\n",
       "  </thead>\n",
       "  <tbody>\n",
       "    <tr>\n",
       "      <th>0</th>\n",
       "      <td>3</td>\n",
       "      <td>7</td>\n",
       "      <td>20</td>\n",
       "      <td>20</td>\n",
       "      <td>20</td>\n",
       "      <td>20</td>\n",
       "      <td>20</td>\n",
       "      <td>20</td>\n",
       "      <td>20</td>\n",
       "      <td>20</td>\n",
       "      <td>...</td>\n",
       "      <td>38</td>\n",
       "      <td>38</td>\n",
       "      <td>38</td>\n",
       "      <td>38</td>\n",
       "      <td>38</td>\n",
       "      <td>38</td>\n",
       "      <td>38</td>\n",
       "      <td>37</td>\n",
       "      <td>33</td>\n",
       "      <td>20</td>\n",
       "    </tr>\n",
       "    <tr>\n",
       "      <th>1</th>\n",
       "      <td>38</td>\n",
       "      <td>38</td>\n",
       "      <td>38</td>\n",
       "      <td>38</td>\n",
       "      <td>38</td>\n",
       "      <td>38</td>\n",
       "      <td>37</td>\n",
       "      <td>33</td>\n",
       "      <td>20</td>\n",
       "      <td>20</td>\n",
       "      <td>...</td>\n",
       "      <td>38</td>\n",
       "      <td>38</td>\n",
       "      <td>38</td>\n",
       "      <td>38</td>\n",
       "      <td>38</td>\n",
       "      <td>38</td>\n",
       "      <td>38</td>\n",
       "      <td>38</td>\n",
       "      <td>38</td>\n",
       "      <td>38</td>\n",
       "    </tr>\n",
       "    <tr>\n",
       "      <th>2</th>\n",
       "      <td>38</td>\n",
       "      <td>38</td>\n",
       "      <td>38</td>\n",
       "      <td>38</td>\n",
       "      <td>38</td>\n",
       "      <td>38</td>\n",
       "      <td>38</td>\n",
       "      <td>38</td>\n",
       "      <td>38</td>\n",
       "      <td>38</td>\n",
       "      <td>...</td>\n",
       "      <td>38</td>\n",
       "      <td>38</td>\n",
       "      <td>38</td>\n",
       "      <td>38</td>\n",
       "      <td>37</td>\n",
       "      <td>33</td>\n",
       "      <td>20</td>\n",
       "      <td>19</td>\n",
       "      <td>15</td>\n",
       "      <td>3</td>\n",
       "    </tr>\n",
       "    <tr>\n",
       "      <th>3</th>\n",
       "      <td>15</td>\n",
       "      <td>2</td>\n",
       "      <td>3</td>\n",
       "      <td>8</td>\n",
       "      <td>25</td>\n",
       "      <td>38</td>\n",
       "      <td>38</td>\n",
       "      <td>38</td>\n",
       "      <td>37</td>\n",
       "      <td>34</td>\n",
       "      <td>...</td>\n",
       "      <td>37</td>\n",
       "      <td>34</td>\n",
       "      <td>25</td>\n",
       "      <td>38</td>\n",
       "      <td>38</td>\n",
       "      <td>38</td>\n",
       "      <td>38</td>\n",
       "      <td>37</td>\n",
       "      <td>33</td>\n",
       "      <td>19</td>\n",
       "    </tr>\n",
       "    <tr>\n",
       "      <th>4</th>\n",
       "      <td>19</td>\n",
       "      <td>15</td>\n",
       "      <td>2</td>\n",
       "      <td>2</td>\n",
       "      <td>2</td>\n",
       "      <td>2</td>\n",
       "      <td>2</td>\n",
       "      <td>2</td>\n",
       "      <td>3</td>\n",
       "      <td>7</td>\n",
       "      <td>...</td>\n",
       "      <td>20</td>\n",
       "      <td>20</td>\n",
       "      <td>20</td>\n",
       "      <td>20</td>\n",
       "      <td>20</td>\n",
       "      <td>20</td>\n",
       "      <td>20</td>\n",
       "      <td>20</td>\n",
       "      <td>20</td>\n",
       "      <td>20</td>\n",
       "    </tr>\n",
       "    <tr>\n",
       "      <th>5</th>\n",
       "      <td>20</td>\n",
       "      <td>20</td>\n",
       "      <td>20</td>\n",
       "      <td>20</td>\n",
       "      <td>20</td>\n",
       "      <td>20</td>\n",
       "      <td>20</td>\n",
       "      <td>20</td>\n",
       "      <td>20</td>\n",
       "      <td>20</td>\n",
       "      <td>...</td>\n",
       "      <td>20</td>\n",
       "      <td>20</td>\n",
       "      <td>20</td>\n",
       "      <td>20</td>\n",
       "      <td>20</td>\n",
       "      <td>20</td>\n",
       "      <td>20</td>\n",
       "      <td>20</td>\n",
       "      <td>20</td>\n",
       "      <td>20</td>\n",
       "    </tr>\n",
       "    <tr>\n",
       "      <th>6</th>\n",
       "      <td>20</td>\n",
       "      <td>20</td>\n",
       "      <td>20</td>\n",
       "      <td>20</td>\n",
       "      <td>20</td>\n",
       "      <td>20</td>\n",
       "      <td>20</td>\n",
       "      <td>20</td>\n",
       "      <td>20</td>\n",
       "      <td>20</td>\n",
       "      <td>...</td>\n",
       "      <td>37</td>\n",
       "      <td>33</td>\n",
       "      <td>20</td>\n",
       "      <td>20</td>\n",
       "      <td>20</td>\n",
       "      <td>19</td>\n",
       "      <td>15</td>\n",
       "      <td>2</td>\n",
       "      <td>2</td>\n",
       "      <td>2</td>\n",
       "    </tr>\n",
       "    <tr>\n",
       "      <th>7</th>\n",
       "      <td>37</td>\n",
       "      <td>33</td>\n",
       "      <td>19</td>\n",
       "      <td>15</td>\n",
       "      <td>2</td>\n",
       "      <td>3</td>\n",
       "      <td>7</td>\n",
       "      <td>20</td>\n",
       "      <td>20</td>\n",
       "      <td>20</td>\n",
       "      <td>...</td>\n",
       "      <td>20</td>\n",
       "      <td>20</td>\n",
       "      <td>20</td>\n",
       "      <td>21</td>\n",
       "      <td>25</td>\n",
       "      <td>38</td>\n",
       "      <td>38</td>\n",
       "      <td>38</td>\n",
       "      <td>38</td>\n",
       "      <td>38</td>\n",
       "    </tr>\n",
       "    <tr>\n",
       "      <th>8</th>\n",
       "      <td>2</td>\n",
       "      <td>2</td>\n",
       "      <td>2</td>\n",
       "      <td>2</td>\n",
       "      <td>2</td>\n",
       "      <td>3</td>\n",
       "      <td>7</td>\n",
       "      <td>21</td>\n",
       "      <td>25</td>\n",
       "      <td>38</td>\n",
       "      <td>...</td>\n",
       "      <td>20</td>\n",
       "      <td>20</td>\n",
       "      <td>20</td>\n",
       "      <td>20</td>\n",
       "      <td>20</td>\n",
       "      <td>20</td>\n",
       "      <td>20</td>\n",
       "      <td>20</td>\n",
       "      <td>20</td>\n",
       "      <td>20</td>\n",
       "    </tr>\n",
       "    <tr>\n",
       "      <th>9</th>\n",
       "      <td>3</td>\n",
       "      <td>7</td>\n",
       "      <td>21</td>\n",
       "      <td>25</td>\n",
       "      <td>38</td>\n",
       "      <td>37</td>\n",
       "      <td>33</td>\n",
       "      <td>20</td>\n",
       "      <td>20</td>\n",
       "      <td>20</td>\n",
       "      <td>...</td>\n",
       "      <td>20</td>\n",
       "      <td>20</td>\n",
       "      <td>20</td>\n",
       "      <td>20</td>\n",
       "      <td>20</td>\n",
       "      <td>20</td>\n",
       "      <td>20</td>\n",
       "      <td>20</td>\n",
       "      <td>20</td>\n",
       "      <td>20</td>\n",
       "    </tr>\n",
       "  </tbody>\n",
       "</table>\n",
       "<p>10 rows × 498 columns</p>\n",
       "</div>"
      ],
      "text/plain": [
       "    0   1   2   3   4   5   6   7   8   9  ...  488  489  490  491  492  493   \n",
       "0   3   7  20  20  20  20  20  20  20  20  ...   38   38   38   38   38   38  \\\n",
       "1  38  38  38  38  38  38  37  33  20  20  ...   38   38   38   38   38   38   \n",
       "2  38  38  38  38  38  38  38  38  38  38  ...   38   38   38   38   37   33   \n",
       "3  15   2   3   8  25  38  38  38  37  34  ...   37   34   25   38   38   38   \n",
       "4  19  15   2   2   2   2   2   2   3   7  ...   20   20   20   20   20   20   \n",
       "5  20  20  20  20  20  20  20  20  20  20  ...   20   20   20   20   20   20   \n",
       "6  20  20  20  20  20  20  20  20  20  20  ...   37   33   20   20   20   19   \n",
       "7  37  33  19  15   2   3   7  20  20  20  ...   20   20   20   21   25   38   \n",
       "8   2   2   2   2   2   3   7  21  25  38  ...   20   20   20   20   20   20   \n",
       "9   3   7  21  25  38  37  33  20  20  20  ...   20   20   20   20   20   20   \n",
       "\n",
       "   494  495  496  497  \n",
       "0   38   37   33   20  \n",
       "1   38   38   38   38  \n",
       "2   20   19   15    3  \n",
       "3   38   37   33   19  \n",
       "4   20   20   20   20  \n",
       "5   20   20   20   20  \n",
       "6   15    2    2    2  \n",
       "7   38   38   38   38  \n",
       "8   20   20   20   20  \n",
       "9   20   20   20   20  \n",
       "\n",
       "[10 rows x 498 columns]"
      ]
     },
     "execution_count": 30,
     "metadata": {},
     "output_type": "execute_result"
    }
   ],
   "source": [
    "new_rep.head(10)"
   ]
  },
  {
   "cell_type": "code",
   "execution_count": 31,
   "metadata": {},
   "outputs": [
    {
     "name": "stdout",
     "output_type": "stream",
     "text": [
      "<class 'pandas.core.frame.DataFrame'>\n",
      "RangeIndex: 32 entries, 0 to 31\n",
      "Columns: 498 entries, 0 to 497\n",
      "dtypes: int64(498)\n",
      "memory usage: 124.6 KB\n"
     ]
    }
   ],
   "source": [
    "new_rep.info()"
   ]
  },
  {
   "cell_type": "code",
   "execution_count": 32,
   "metadata": {},
   "outputs": [],
   "source": [
    "# Calculate frequency of symbols for each instance\n",
    "\n",
    "symbols = np.unique(new_rep)\n",
    "classes = np.unique(labels)\n",
    "frequencies = new_rep.apply(lambda row : functions.calculate_frequency(row, symbols), axis=1)"
   ]
  },
  {
   "cell_type": "code",
   "execution_count": 33,
   "metadata": {},
   "outputs": [
    {
     "data": {
      "text/plain": [
       "array([ 2,  3,  4,  6,  7,  8, 10, 11, 12, 15, 16, 17, 19, 20, 21, 24, 25,\n",
       "       28, 29, 30, 32, 33, 34, 36, 37, 38])"
      ]
     },
     "execution_count": 33,
     "metadata": {},
     "output_type": "execute_result"
    }
   ],
   "source": [
    "symbols"
   ]
  },
  {
   "cell_type": "code",
   "execution_count": 34,
   "metadata": {},
   "outputs": [
    {
     "data": {
      "text/plain": [
       "(32, 32)"
      ]
     },
     "execution_count": 34,
     "metadata": {},
     "output_type": "execute_result"
    }
   ],
   "source": [
    "# Calculate Jensenshannon distance\n",
    "\n",
    "from scipy.spatial.distance import squareform, jensenshannon\n",
    "from itertools import combinations\n",
    "\n",
    "pairwise_js = np.zeros((len(frequencies), len(frequencies)))\n",
    "pairwise_js[np.triu_indices(len(frequencies), k=1)] = [jensenshannon(x, y) for x, y in combinations(frequencies.values, r=2)]\n",
    "pairwise_js += pairwise_js.T\n",
    "pairwise_js = pairwise_js\n",
    "pairwise_js.shape"
   ]
  },
  {
   "cell_type": "code",
   "execution_count": 35,
   "metadata": {},
   "outputs": [],
   "source": [
    "eq_class_js = np.ones(pairwise_js.shape) * -1\n",
    "diff_class_js = np.ones(pairwise_js.shape) * -1\n",
    "\n",
    "for i in range(pairwise_js.shape[0]):\n",
    "    indexes = (labels[i + 1:] == labels[i])\n",
    "    p_tmp = pairwise_js[i, i + 1:]\n",
    "    # Get JS distance from instances that belong to the same class\n",
    "    eq_tmp = eq_class_js[i, i + 1:]\n",
    "    eq_tmp[indexes] = p_tmp[indexes]\n",
    "    # Get JS distance from instances that belong to the different classes\n",
    "    diff_tmp = diff_class_js[i, i + 1:]\n",
    "    diff_tmp[~indexes] = p_tmp[~indexes]"
   ]
  },
  {
   "cell_type": "code",
   "execution_count": 36,
   "metadata": {},
   "outputs": [],
   "source": [
    "eq_class_js = eq_class_js.flatten()\n",
    "eq_class_js = eq_class_js[np.where(eq_class_js != -1)]"
   ]
  },
  {
   "cell_type": "code",
   "execution_count": 37,
   "metadata": {},
   "outputs": [
    {
     "data": {
      "text/plain": [
       "(98,)"
      ]
     },
     "execution_count": 37,
     "metadata": {},
     "output_type": "execute_result"
    }
   ],
   "source": [
    "eq_class_js.shape"
   ]
  },
  {
   "cell_type": "code",
   "execution_count": 38,
   "metadata": {},
   "outputs": [],
   "source": [
    "diff_class_js = diff_class_js.flatten()\n",
    "diff_class_js = diff_class_js[np.where(diff_class_js != -1)]"
   ]
  },
  {
   "cell_type": "code",
   "execution_count": 39,
   "metadata": {},
   "outputs": [
    {
     "data": {
      "text/plain": [
       "(398,)"
      ]
     },
     "execution_count": 39,
     "metadata": {},
     "output_type": "execute_result"
    }
   ],
   "source": [
    "diff_class_js.shape"
   ]
  },
  {
   "cell_type": "code",
   "execution_count": 40,
   "metadata": {},
   "outputs": [
    {
     "data": {
      "text/plain": [
       "Text(0.5, 0, 'Distance')"
      ]
     },
     "execution_count": 40,
     "metadata": {},
     "output_type": "execute_result"
    },
    {
     "data": {
      "image/png": "[encoded data removed]",
      "text/plain": [
       "<Figure size 800x600 with 1 Axes>"
      ]
     },
     "metadata": {},
     "output_type": "display_data"
    }
   ],
   "source": [
    "\n",
    "import seaborn as sns\n",
    "import matplotlib.pyplot as plt\n",
    "sns.set_theme(style='whitegrid')\n",
    "sns.set_context(\"paper\", rc={\"font.size\":15,\"axes.titlesize\":15,\"axes.labelsize\":15})  \n",
    "plt.figure(figsize=(8, 6))\n",
    "\n",
    "eq_class = pd.Series(eq_class_js)\n",
    "diff_class = pd.Series(diff_class_js)\n",
    "combined_distances = pd.DataFrame({'Equal Class' : eq_class,\n",
    "                                    'Different Class' : diff_class})\n",
    "\n",
    "fig = sns.boxplot(data=combined_distances, orient='h')\n",
    "fig.set_xlabel(f'Distance')"
   ]
  }
 ],
 "metadata": {
  "kernelspec": {
   "display_name": ".ic_venv",
   "language": "python",
   "name": "python3"
  },
  "language_info": {
   "codemirror_mode": {
    "name": "ipython",
    "version": 3
   },
   "file_extension": ".py",
   "mimetype": "text/x-python",
   "name": "python",
   "nbconvert_exporter": "python",
   "pygments_lexer": "ipython3",
   "version": "3.10.12"
  },
  "orig_nbformat": 4
 },
 "nbformat": 4,
 "nbformat_minor": 2
}
